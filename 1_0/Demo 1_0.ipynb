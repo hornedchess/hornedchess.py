{
 "cells": [
  {
   "cell_type": "code",
   "execution_count": 1,
   "id": "c93663c7",
   "metadata": {},
   "outputs": [
    {
     "name": "stdout",
     "output_type": "stream",
     "text": [
      "https://hornedchess.github.io\n"
     ]
    }
   ],
   "source": [
    "import hornedchess_1_0 as hc\n",
    "\n",
    "\n",
    "print(\"https://hornedchess.github.io\")"
   ]
  },
  {
   "cell_type": "code",
   "execution_count": 2,
   "id": "e85717a7",
   "metadata": {},
   "outputs": [],
   "source": [
    "hc.N=10\n",
    "hc.nextMoveDict = hc.genNnextMoveDict(hc.N)\n",
    "\n",
    "\n",
    "#N能設定node的數量，N是不計算top Node的數量。如果包括頂Node，node的總數是N+1\n",
    "#N can set the number of nodes, \n",
    "#and N does not count the number of top Nodes. \n",
    "#If including top Node, the total number of nodes is N+1\n",
    "#N はノード数を設定できます。そして N は上位ノードの数をカウントしません。\n",
    "#トップノードを含めると総ノード数はN+1\n",
    "\n",
    "\n",
    "#nextMoveDict是紀錄每個node能行進的下一步node的位置編號\n",
    "#nextMoveDict records the position number of the next node that each node can move to.\n",
    "#nextMoveDict は、各ノードが移動できる次のノードの位置番号を記録します。"
   ]
  },
  {
   "cell_type": "code",
   "execution_count": 3,
   "id": "e488b4f0",
   "metadata": {},
   "outputs": [],
   "source": [
    "hc.newInitBoard()\n",
    "\n",
    "\n",
    "#創建新棋盤\n",
    "#create a new chessboard\n",
    "#新しいチェス盤を作成する"
   ]
  },
  {
   "cell_type": "code",
   "execution_count": 4,
   "id": "e6d3381f",
   "metadata": {},
   "outputs": [
    {
     "name": "stdout",
     "output_type": "stream",
     "text": [
      "\u001b[1mc\u001b[0m\n",
      "|  \\\n",
      "1 -- 2\n",
      "|  / \\\n",
      "3 -- 4\n",
      "|  / \\\n",
      "5 -- 6\n",
      "|  / \\\n",
      "7 -- 8\n",
      "|  / \\\n",
      "\u001b[1mf\u001b[0m -- \u001b[1mf\u001b[0m\n",
      "==============================\n"
     ]
    }
   ],
   "source": [
    "hc.struct2img(hc.current_chessboard)\n",
    "\n",
    "\n",
    "#顯示棋盤的圖形\n",
    "#show the graph of the chessboard\n",
    "#チェス盤のグラフを表示"
   ]
  },
  {
   "cell_type": "code",
   "execution_count": 5,
   "id": "be52b193",
   "metadata": {},
   "outputs": [
    {
     "name": "stdout",
     "output_type": "stream",
     "text": [
      "['', 'cow', '', '', '', '', '', '', '', 'farmer', 'farmer']\n",
      "0\n",
      "|  \\\n",
      "\u001b[1mc\u001b[0m -- 2\n",
      "|  / \\\n",
      "3 -- 4\n",
      "|  / \\\n",
      "5 -- 6\n",
      "|  / \\\n",
      "7 -- 8\n",
      "|  / \\\n",
      "\u001b[1mf\u001b[0m -- \u001b[1mf\u001b[0m\n",
      "==============================\n"
     ]
    }
   ],
   "source": [
    "hc.cowMoveBestMove()\n",
    "\n",
    "#Cow 牛\n",
    "#行一步棋最好的行法\n",
    "#The best way to make a move\n",
    "#行動を起こすための最良の方法\n",
    "\n",
    "hc.struct2img(hc.current_chessboard)"
   ]
  },
  {
   "cell_type": "code",
   "execution_count": 6,
   "id": "7dadc87c",
   "metadata": {},
   "outputs": [
    {
     "name": "stdout",
     "output_type": "stream",
     "text": [
      "['', 'cow', '', '', '', '', '', '', 'farmer', 'farmer', '']\n",
      "0\n",
      "|  \\\n",
      "\u001b[1mc\u001b[0m -- 2\n",
      "|  / \\\n",
      "3 -- 4\n",
      "|  / \\\n",
      "5 -- 6\n",
      "|  / \\\n",
      "7 -- \u001b[1mf\u001b[0m\n",
      "|  / \\\n",
      "\u001b[1mf\u001b[0m -- 10\n",
      "==============================\n"
     ]
    }
   ],
   "source": [
    "hc.farmerMoveBestMove()\n",
    "\n",
    "#Farmer 農\n",
    "#行一步棋最好的行法\n",
    "#The best way to make a move\n",
    "#行動を起こすための最良の方法\n",
    "\n",
    "hc.struct2img(hc.current_chessboard)"
   ]
  },
  {
   "cell_type": "code",
   "execution_count": 7,
   "id": "1cbf2ed6",
   "metadata": {},
   "outputs": [
    {
     "name": "stdout",
     "output_type": "stream",
     "text": [
      "['', '', 'cow', '', '', '', '', '', 'farmer', 'farmer', '']\n",
      "0\n",
      "|  \\\n",
      "1 -- \u001b[1mc\u001b[0m\n",
      "|  / \\\n",
      "3 -- 4\n",
      "|  / \\\n",
      "5 -- 6\n",
      "|  / \\\n",
      "7 -- \u001b[1mf\u001b[0m\n",
      "|  / \\\n",
      "\u001b[1mf\u001b[0m -- 10\n",
      "==============================\n"
     ]
    }
   ],
   "source": [
    "hc.cowCustomMove(1,2)\n",
    "\n",
    "#行一步棋(自訂的行法)\n",
    "#A customized way to play a chess move\n",
    "\n",
    "hc.struct2img(hc.current_chessboard)"
   ]
  },
  {
   "cell_type": "markdown",
   "id": "3ee9d9c4",
   "metadata": {},
   "source": [
    "---\n",
    "\n",
    "# Matrixize for research"
   ]
  },
  {
   "cell_type": "code",
   "execution_count": 9,
   "id": "82c3dda3",
   "metadata": {},
   "outputs": [],
   "source": [
    "import numpy as np\n",
    "import hornedchess_1_0 as hc"
   ]
  },
  {
   "cell_type": "code",
   "execution_count": 12,
   "id": "5b3b17b4",
   "metadata": {},
   "outputs": [
    {
     "data": {
      "text/plain": [
       "[0, -1, -1, -1, -1, -1, -1, -1, -1, 1, 1]"
      ]
     },
     "execution_count": 12,
     "metadata": {},
     "output_type": "execute_result"
    }
   ],
   "source": [
    "hc.N=10\n",
    "hc.nextMoveDict = hc.genNnextMoveDict(hc.N)\n",
    "hc.newInitBoard()\n",
    "\n",
    "chessboard = hc.current_chessboard\n",
    "\n",
    "chessboardvector = hc.cfToNum(chessboard)\n",
    "chessboardvector\n",
    "\n",
    "#初始化\n",
    "#initialization\n",
    "#初期化\n",
    "#0=Cow , 1=Farmer "
   ]
  },
  {
   "cell_type": "code",
   "execution_count": 15,
   "id": "28d01b05",
   "metadata": {},
   "outputs": [
    {
     "data": {
      "text/plain": [
       "{0: [1, 2],\n",
       " 1: [0, 2, 3],\n",
       " 2: [0, 1, 3, 4],\n",
       " 3: [1, 2, 4, 5],\n",
       " 4: [2, 3, 5, 6],\n",
       " 5: [3, 4, 6, 7],\n",
       " 6: [4, 5, 7, 8],\n",
       " 7: [5, 6, 8, 9],\n",
       " 8: [6, 7, 9, 10],\n",
       " 9: [7, 8, 10],\n",
       " 10: [8, 9]}"
      ]
     },
     "execution_count": 15,
     "metadata": {},
     "output_type": "execute_result"
    }
   ],
   "source": [
    "hc.nextMoveDict\n",
    "\n",
    "#下一步可行的node的位置編號array\n",
    "#The position number array of the next feasible node\n",
    "#次に実行可能なノードの位置番号配列"
   ]
  },
  {
   "cell_type": "code",
   "execution_count": 17,
   "id": "9be990de",
   "metadata": {},
   "outputs": [
    {
     "data": {
      "text/plain": [
       "array([[ 1,  2, -1, -1],\n",
       "       [ 0,  2,  3, -1],\n",
       "       [ 0,  1,  3,  4],\n",
       "       [ 1,  2,  4,  5],\n",
       "       [ 2,  3,  5,  6],\n",
       "       [ 3,  4,  6,  7],\n",
       "       [ 4,  5,  7,  8],\n",
       "       [ 5,  6,  8,  9],\n",
       "       [ 6,  7,  9, 10],\n",
       "       [ 7,  8, 10, -1],\n",
       "       [ 8,  9, -1, -1]])"
      ]
     },
     "execution_count": 17,
     "metadata": {},
     "output_type": "execute_result"
    }
   ],
   "source": [
    "canmovevector = np.array( hc.nextMoveMatrix() )\n",
    "canmovevector\n",
    "\n",
    "#矩陣化\n",
    "#Matrixize\n",
    "#マトリックス化"
   ]
  },
  {
   "cell_type": "code",
   "execution_count": 18,
   "id": "d10764f0",
   "metadata": {},
   "outputs": [],
   "source": [
    "actionfocus = [9,0] \n",
    "\n",
    "#chess[?] -> canmove[?]"
   ]
  },
  {
   "cell_type": "code",
   "execution_count": 19,
   "id": "452dc518",
   "metadata": {},
   "outputs": [
    {
     "data": {
      "text/plain": [
       "array([1., 0., 0., 0.])"
      ]
     },
     "execution_count": 19,
     "metadata": {},
     "output_type": "execute_result"
    }
   ],
   "source": [
    "actionvector = np.eye(4)[actionfocus[1]]\n",
    "\n",
    "actionvector"
   ]
  },
  {
   "cell_type": "code",
   "execution_count": 20,
   "id": "449438cc",
   "metadata": {},
   "outputs": [
    {
     "data": {
      "text/plain": [
       "7"
      ]
     },
     "execution_count": 20,
     "metadata": {},
     "output_type": "execute_result"
    }
   ],
   "source": [
    "actionelement = int(np.matmul(canmovevector,actionvector)[ actionfocus[0] ] )\n",
    "actionelement\n",
    "\n",
    "#根據動作向量，需要移動到的棋子索引\n",
    "#according to the action vector, the chess index which needed to move to\n",
    "#"
   ]
  },
  {
   "cell_type": "code",
   "execution_count": null,
   "id": "bc37a127",
   "metadata": {},
   "outputs": [],
   "source": []
  }
 ],
 "metadata": {
  "kernelspec": {
   "display_name": "Python 3 (ipykernel)",
   "language": "python",
   "name": "python3"
  },
  "language_info": {
   "codemirror_mode": {
    "name": "ipython",
    "version": 3
   },
   "file_extension": ".py",
   "mimetype": "text/x-python",
   "name": "python",
   "nbconvert_exporter": "python",
   "pygments_lexer": "ipython3",
   "version": "3.11.5"
  }
 },
 "nbformat": 4,
 "nbformat_minor": 5
}
