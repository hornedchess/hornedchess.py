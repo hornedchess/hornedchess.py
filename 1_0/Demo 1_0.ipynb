{
 "cells": [
  {
   "cell_type": "code",
   "execution_count": 1,
   "id": "cc47c42b",
   "metadata": {},
   "outputs": [],
   "source": [
    "import hornedchess_1_0 as hc"
   ]
  },
  {
   "cell_type": "code",
   "execution_count": 11,
   "id": "befaef54",
   "metadata": {},
   "outputs": [],
   "source": [
    "hc.N=10\n",
    "hc.nextMoveDict = hc.genNnextMoveDict(hc.N)\n",
    "\n",
    "\n",
    "#N能設定node的數量，N是不計算top Node的數量。如果包括頂Node，node的總數是N+1\n",
    "#N can set the number of nodes, \n",
    "#and N does not count the number of top Nodes. \n",
    "#If including top Node, the total number of nodes is N+1\n",
    "\n",
    "\n",
    "#nextMoveDict是紀錄每個node能行進的下一步node的位置編號\n",
    "#nextMoveDict records the position number of the next node that each node can move to."
   ]
  },
  {
   "cell_type": "code",
   "execution_count": 12,
   "id": "85b61573",
   "metadata": {},
   "outputs": [],
   "source": [
    "hc.newInitBoard()\n",
    "#創建新棋盤\n",
    "#create new chessboard"
   ]
  },
  {
   "cell_type": "code",
   "execution_count": 13,
   "id": "750c9308",
   "metadata": {},
   "outputs": [
    {
     "name": "stdout",
     "output_type": "stream",
     "text": [
      "\u001b[1mc\u001b[0m\n",
      "|  \\\n",
      "1 -- 2\n",
      "|  / \\\n",
      "3 -- 4\n",
      "|  / \\\n",
      "5 -- 6\n",
      "|  / \\\n",
      "7 -- 8\n",
      "|  / \\\n",
      "\u001b[1mf\u001b[0m -- \u001b[1mf\u001b[0m\n",
      "==============================\n"
     ]
    }
   ],
   "source": [
    "hc.struct2img(hc.current_chessboard)\n"
   ]
  },
  {
   "cell_type": "code",
   "execution_count": null,
   "id": "e1fafb0b",
   "metadata": {},
   "outputs": [],
   "source": []
  }
 ],
 "metadata": {
  "kernelspec": {
   "display_name": "Python 3 (ipykernel)",
   "language": "python",
   "name": "python3"
  },
  "language_info": {
   "codemirror_mode": {
    "name": "ipython",
    "version": 3
   },
   "file_extension": ".py",
   "mimetype": "text/x-python",
   "name": "python",
   "nbconvert_exporter": "python",
   "pygments_lexer": "ipython3",
   "version": "3.11.5"
  }
 },
 "nbformat": 4,
 "nbformat_minor": 5
}
