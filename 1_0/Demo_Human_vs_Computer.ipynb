{
 "cells": [
  {
   "cell_type": "code",
   "execution_count": 1,
   "id": "f0070b9c",
   "metadata": {},
   "outputs": [
    {
     "name": "stdout",
     "output_type": "stream",
     "text": [
      "https://hornedchess.github.io\n"
     ]
    }
   ],
   "source": [
    "import hornedchess_1_0 as hc\n",
    "\n",
    "\n",
    "print(\"https://hornedchess.github.io\")"
   ]
  },
  {
   "cell_type": "code",
   "execution_count": 2,
   "id": "0393dc3b",
   "metadata": {},
   "outputs": [],
   "source": [
    "hc.N=10\n",
    "hc.nextMoveDict = hc.genNnextMoveDict(hc.N)\n",
    "\n",
    "\n",
    "#N能設定node的數量，N是不計算top Node的數量。如果包括頂Node，node的總數是N+1\n",
    "#N can set the number of nodes, \n",
    "#and N does not count the number of top Nodes. \n",
    "#If including top Node, the total number of nodes is N+1\n",
    "#N はノード数を設定できます。そして N は上位ノードの数をカウントしません。\n",
    "#トップノードを含めると総ノード数はN+1\n",
    "\n",
    "\n",
    "#nextMoveDict是紀錄每個node能行進的下一步node的位置編號\n",
    "#nextMoveDict records the position number of the next node that each node can move to.\n",
    "#nextMoveDict は、各ノードが移動できる次のノードの位置番号を記録します。"
   ]
  },
  {
   "cell_type": "code",
   "execution_count": 3,
   "id": "65d30e6b",
   "metadata": {},
   "outputs": [],
   "source": [
    "hc.newInitBoard()\n",
    "\n",
    "\n",
    "#創建新棋盤\n",
    "#create a new chessboard\n",
    "#新しいチェス盤を作成する"
   ]
  },
  {
   "cell_type": "code",
   "execution_count": 4,
   "id": "d7bfebb5",
   "metadata": {},
   "outputs": [
    {
     "name": "stdout",
     "output_type": "stream",
     "text": [
      "\u001b[1mc\u001b[0m\n",
      "|  \\\n",
      "1 -- 2\n",
      "|  / \\\n",
      "3 -- 4\n",
      "|  / \\\n",
      "5 -- 6\n",
      "|  / \\\n",
      "7 -- 8\n",
      "|  / \\\n",
      "\u001b[1mf\u001b[0m -- \u001b[1mf\u001b[0m\n",
      "==============================\n"
     ]
    }
   ],
   "source": [
    "hc.struct2img(hc.current_chessboard)\n",
    "\n",
    "\n",
    "#顯示棋盤的圖形\n",
    "#show the graph of the chessboard\n",
    "#チェス盤のグラフを表示"
   ]
  },
  {
   "cell_type": "markdown",
   "id": "551a0c50",
   "metadata": {},
   "source": [
    "# Example:\n",
    "\n",
    "Computer = Cow"
   ]
  },
  {
   "cell_type": "code",
   "execution_count": 5,
   "id": "4f83bd99",
   "metadata": {},
   "outputs": [
    {
     "name": "stdout",
     "output_type": "stream",
     "text": [
      "['', 'cow', '', '', '', '', '', '', '', 'farmer', 'farmer']\n",
      "0\n",
      "|  \\\n",
      "\u001b[1mc\u001b[0m -- 2\n",
      "|  / \\\n",
      "3 -- 4\n",
      "|  / \\\n",
      "5 -- 6\n",
      "|  / \\\n",
      "7 -- 8\n",
      "|  / \\\n",
      "\u001b[1mf\u001b[0m -- \u001b[1mf\u001b[0m\n",
      "==============================\n"
     ]
    }
   ],
   "source": [
    "hc.cowMoveBestMove()\n",
    "\n",
    "#Cow 牛\n",
    "#行一步棋最好的行法\n",
    "#The best way to make a move\n",
    "#行動を起こすための最良の方法\n",
    "\n",
    "hc.struct2img(hc.current_chessboard)"
   ]
  },
  {
   "cell_type": "code",
   "execution_count": 6,
   "id": "a12eff55",
   "metadata": {},
   "outputs": [
    {
     "name": "stdout",
     "output_type": "stream",
     "text": [
      "['', 'cow', '', '', '', '', '', 'farmer', '', '', 'farmer']\n",
      "0\n",
      "|  \\\n",
      "\u001b[1mc\u001b[0m -- 2\n",
      "|  / \\\n",
      "3 -- 4\n",
      "|  / \\\n",
      "5 -- 6\n",
      "|  / \\\n",
      "\u001b[1mf\u001b[0m -- 8\n",
      "|  / \\\n",
      "9 -- \u001b[1mf\u001b[0m\n",
      "==============================\n"
     ]
    }
   ],
   "source": [
    "hc.farmerCustomMove(9,7)\n",
    "\n",
    "#行一步棋(自訂的行法)\n",
    "#A customized way to play a chess move\n",
    "\n",
    "hc.struct2img(hc.current_chessboard)"
   ]
  },
  {
   "cell_type": "code",
   "execution_count": 7,
   "id": "0866a182",
   "metadata": {},
   "outputs": [
    {
     "name": "stdout",
     "output_type": "stream",
     "text": [
      "['', '', 'cow', '', '', '', '', 'farmer', '', '', 'farmer']\n",
      "0\n",
      "|  \\\n",
      "1 -- \u001b[1mc\u001b[0m\n",
      "|  / \\\n",
      "3 -- 4\n",
      "|  / \\\n",
      "5 -- 6\n",
      "|  / \\\n",
      "\u001b[1mf\u001b[0m -- 8\n",
      "|  / \\\n",
      "9 -- \u001b[1mf\u001b[0m\n",
      "==============================\n"
     ]
    }
   ],
   "source": [
    "hc.cowMoveBestMove()\n",
    "hc.struct2img(hc.current_chessboard)"
   ]
  },
  {
   "cell_type": "code",
   "execution_count": 8,
   "id": "b8cbe81a",
   "metadata": {},
   "outputs": [
    {
     "name": "stdout",
     "output_type": "stream",
     "text": [
      "['', '', 'cow', '', '', '', '', 'farmer', 'farmer', '', '']\n",
      "0\n",
      "|  \\\n",
      "1 -- \u001b[1mc\u001b[0m\n",
      "|  / \\\n",
      "3 -- 4\n",
      "|  / \\\n",
      "5 -- 6\n",
      "|  / \\\n",
      "\u001b[1mf\u001b[0m -- \u001b[1mf\u001b[0m\n",
      "|  / \\\n",
      "9 -- 10\n",
      "==============================\n"
     ]
    }
   ],
   "source": [
    "hc.farmerCustomMove(10,8)\n",
    "hc.struct2img(hc.current_chessboard)"
   ]
  },
  {
   "cell_type": "code",
   "execution_count": 9,
   "id": "7a0b4167",
   "metadata": {},
   "outputs": [
    {
     "name": "stdout",
     "output_type": "stream",
     "text": [
      "['', '', '', 'cow', '', '', '', 'farmer', 'farmer', '', '']\n",
      "0\n",
      "|  \\\n",
      "1 -- 2\n",
      "|  / \\\n",
      "\u001b[1mc\u001b[0m -- 4\n",
      "|  / \\\n",
      "5 -- 6\n",
      "|  / \\\n",
      "\u001b[1mf\u001b[0m -- \u001b[1mf\u001b[0m\n",
      "|  / \\\n",
      "9 -- 10\n",
      "==============================\n"
     ]
    }
   ],
   "source": [
    "hc.cowMoveBestMove()\n",
    "hc.struct2img(hc.current_chessboard)"
   ]
  },
  {
   "cell_type": "code",
   "execution_count": 10,
   "id": "d7fe77e5",
   "metadata": {},
   "outputs": [
    {
     "name": "stdout",
     "output_type": "stream",
     "text": [
      "['', '', '', 'cow', '', '', 'farmer', '', 'farmer', '', '']\n",
      "0\n",
      "|  \\\n",
      "1 -- 2\n",
      "|  / \\\n",
      "\u001b[1mc\u001b[0m -- 4\n",
      "|  / \\\n",
      "5 -- \u001b[1mf\u001b[0m\n",
      "|  / \\\n",
      "7 -- \u001b[1mf\u001b[0m\n",
      "|  / \\\n",
      "9 -- 10\n",
      "==============================\n"
     ]
    }
   ],
   "source": [
    "hc.farmerCustomMove(7,6)\n",
    "hc.struct2img(hc.current_chessboard)"
   ]
  },
  {
   "cell_type": "code",
   "execution_count": 11,
   "id": "dea638a6",
   "metadata": {},
   "outputs": [
    {
     "name": "stdout",
     "output_type": "stream",
     "text": [
      "['', '', '', '', 'cow', '', 'farmer', '', 'farmer', '', '']\n",
      "0\n",
      "|  \\\n",
      "1 -- 2\n",
      "|  / \\\n",
      "3 -- \u001b[1mc\u001b[0m\n",
      "|  / \\\n",
      "5 -- \u001b[1mf\u001b[0m\n",
      "|  / \\\n",
      "7 -- \u001b[1mf\u001b[0m\n",
      "|  / \\\n",
      "9 -- 10\n",
      "==============================\n"
     ]
    }
   ],
   "source": [
    "hc.cowMoveBestMove()\n",
    "hc.struct2img(hc.current_chessboard)"
   ]
  },
  {
   "cell_type": "code",
   "execution_count": 12,
   "id": "edd44b05",
   "metadata": {},
   "outputs": [
    {
     "name": "stdout",
     "output_type": "stream",
     "text": [
      "['', '', '', '', 'cow', '', 'farmer', 'farmer', '', '', '']\n",
      "0\n",
      "|  \\\n",
      "1 -- 2\n",
      "|  / \\\n",
      "3 -- \u001b[1mc\u001b[0m\n",
      "|  / \\\n",
      "5 -- \u001b[1mf\u001b[0m\n",
      "|  / \\\n",
      "\u001b[1mf\u001b[0m -- 8\n",
      "|  / \\\n",
      "9 -- 10\n",
      "==============================\n"
     ]
    }
   ],
   "source": [
    "hc.farmerCustomMove(8,7)\n",
    "hc.struct2img(hc.current_chessboard)"
   ]
  },
  {
   "cell_type": "code",
   "execution_count": 13,
   "id": "0abcd24a",
   "metadata": {},
   "outputs": [
    {
     "name": "stdout",
     "output_type": "stream",
     "text": [
      "['', '', '', '', '', 'cow', 'farmer', 'farmer', '', '', '']\n",
      "0\n",
      "|  \\\n",
      "1 -- 2\n",
      "|  / \\\n",
      "3 -- 4\n",
      "|  / \\\n",
      "\u001b[1mc\u001b[0m -- \u001b[1mf\u001b[0m\n",
      "|  / \\\n",
      "\u001b[1mf\u001b[0m -- 8\n",
      "|  / \\\n",
      "9 -- 10\n",
      "==============================\n"
     ]
    }
   ],
   "source": [
    "hc.cowMoveBestMove()\n",
    "hc.struct2img(hc.current_chessboard)"
   ]
  },
  {
   "cell_type": "code",
   "execution_count": 14,
   "id": "12f366d4",
   "metadata": {},
   "outputs": [
    {
     "name": "stdout",
     "output_type": "stream",
     "text": [
      "Cow win\n"
     ]
    }
   ],
   "source": [
    "print(\"Cow win\")"
   ]
  },
  {
   "cell_type": "code",
   "execution_count": null,
   "id": "d7068aa3",
   "metadata": {},
   "outputs": [],
   "source": []
  }
 ],
 "metadata": {
  "kernelspec": {
   "display_name": "Python 3 (ipykernel)",
   "language": "python",
   "name": "python3"
  },
  "language_info": {
   "codemirror_mode": {
    "name": "ipython",
    "version": 3
   },
   "file_extension": ".py",
   "mimetype": "text/x-python",
   "name": "python",
   "nbconvert_exporter": "python",
   "pygments_lexer": "ipython3",
   "version": "3.11.5"
  }
 },
 "nbformat": 4,
 "nbformat_minor": 5
}
