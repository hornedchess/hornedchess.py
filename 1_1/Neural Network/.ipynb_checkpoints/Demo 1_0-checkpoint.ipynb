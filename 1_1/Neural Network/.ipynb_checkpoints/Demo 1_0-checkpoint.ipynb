{
 "cells": [
  {
   "cell_type": "code",
   "execution_count": 2,
   "id": "dd896434",
   "metadata": {},
   "outputs": [
    {
     "name": "stdout",
     "output_type": "stream",
     "text": [
      "https://hornedchess.github.io\n"
     ]
    }
   ],
   "source": [
    "import hornedchess_1_0 as hc\n",
    "\n",
    "\n",
    "print(\"https://hornedchess.github.io\")"
   ]
  },
  {
   "cell_type": "code",
   "execution_count": 3,
   "id": "6273cce8",
   "metadata": {},
   "outputs": [
    {
     "name": "stdout",
     "output_type": "stream",
     "text": [
      "\u001b[1mc\u001b[0m\n",
      "|  \\\n",
      "1 -- 2\n",
      "|  / \\\n",
      "3 -- 4\n",
      "|  / \\\n",
      "5 -- 6\n",
      "|  / \\\n",
      "7 -- 8\n",
      "|  / \\\n",
      "\u001b[1mf\u001b[0m -- \u001b[1mf\u001b[0m\n",
      "==============================\n"
     ]
    }
   ],
   "source": [
    "hc.N=10\n",
    "hc.nextMoveDict = hc.genNnextMoveDict(hc.N)\n",
    "hc.newInitBoard()\n",
    "hc.struct2img(hc.current_chessboard)"
   ]
  },
  {
   "cell_type": "code",
   "execution_count": 5,
   "id": "a0dfdc96",
   "metadata": {},
   "outputs": [
    {
     "name": "stdout",
     "output_type": "stream",
     "text": [
      "['', 'cow', '', '', '', '', '', '', '', 'farmer', 'farmer']\n",
      "0\n",
      "|  \\\n",
      "\u001b[1mc\u001b[0m -- 2\n",
      "|  / \\\n",
      "3 -- 4\n",
      "|  / \\\n",
      "5 -- 6\n",
      "|  / \\\n",
      "7 -- 8\n",
      "|  / \\\n",
      "\u001b[1mf\u001b[0m -- \u001b[1mf\u001b[0m\n",
      "==============================\n"
     ]
    }
   ],
   "source": [
    "hc.cowMoveBestMove()\n",
    "\n",
    "#Cow 牛\n",
    "#行一步棋最好的行法\n",
    "#The best way to make a move\n",
    "#行動を起こすための最良の方法\n",
    "\n",
    "hc.struct2img(hc.current_chessboard)"
   ]
  },
  {
   "cell_type": "code",
   "execution_count": 6,
   "id": "1f99f635",
   "metadata": {},
   "outputs": [
    {
     "name": "stdout",
     "output_type": "stream",
     "text": [
      "['', 'cow', '', '', '', '', '', '', 'farmer', 'farmer', '']\n",
      "0\n",
      "|  \\\n",
      "\u001b[1mc\u001b[0m -- 2\n",
      "|  / \\\n",
      "3 -- 4\n",
      "|  / \\\n",
      "5 -- 6\n",
      "|  / \\\n",
      "7 -- \u001b[1mf\u001b[0m\n",
      "|  / \\\n",
      "\u001b[1mf\u001b[0m -- 10\n",
      "==============================\n"
     ]
    }
   ],
   "source": [
    "hc.farmerMoveBestMove()\n",
    "\n",
    "#Farmer 農\n",
    "#行一步棋最好的行法\n",
    "#The best way to make a move\n",
    "#行動を起こすための最良の方法\n",
    "\n",
    "hc.struct2img(hc.current_chessboard)"
   ]
  },
  {
   "cell_type": "code",
   "execution_count": 7,
   "id": "7dd59ec5",
   "metadata": {},
   "outputs": [
    {
     "name": "stdout",
     "output_type": "stream",
     "text": [
      "['', '', 'cow', '', '', '', '', '', 'farmer', 'farmer', '']\n",
      "0\n",
      "|  \\\n",
      "1 -- \u001b[1mc\u001b[0m\n",
      "|  / \\\n",
      "3 -- 4\n",
      "|  / \\\n",
      "5 -- 6\n",
      "|  / \\\n",
      "7 -- \u001b[1mf\u001b[0m\n",
      "|  / \\\n",
      "\u001b[1mf\u001b[0m -- 10\n",
      "==============================\n"
     ]
    }
   ],
   "source": [
    "hc.cowCustomMove(1,2)\n",
    "\n",
    "#行一步棋(自訂的行法)\n",
    "#A customized way to play a chess move\n",
    "\n",
    "hc.struct2img(hc.current_chessboard)"
   ]
  },
  {
   "cell_type": "markdown",
   "id": "e3f778e8",
   "metadata": {},
   "source": [
    "---\n",
    "\n",
    "# Matrixize for research"
   ]
  },
  {
   "cell_type": "code",
   "execution_count": 8,
   "id": "d320f03e",
   "metadata": {},
   "outputs": [],
   "source": [
    "import numpy as np\n",
    "import hornedchess_1_0 as hc"
   ]
  },
  {
   "cell_type": "code",
   "execution_count": 9,
   "id": "1a102731",
   "metadata": {},
   "outputs": [
    {
     "data": {
      "text/plain": [
       "[0, -1, -1, -1, -1, -1, -1, -1, -1, 1, 1]"
      ]
     },
     "execution_count": 9,
     "metadata": {},
     "output_type": "execute_result"
    }
   ],
   "source": [
    "hc.N=10\n",
    "hc.nextMoveDict = hc.genNnextMoveDict(hc.N)\n",
    "hc.newInitBoard()\n",
    "\n",
    "chessboard = hc.current_chessboard\n",
    "\n",
    "chessboardvector = hc.cfToNum(chessboard)\n",
    "chessboardvector\n",
    "\n",
    "#初始化\n",
    "#initialization\n",
    "#初期化\n",
    "#0=Cow , 1=Farmer "
   ]
  },
  {
   "cell_type": "code",
   "execution_count": 10,
   "id": "fb7dbe68",
   "metadata": {},
   "outputs": [
    {
     "data": {
      "text/plain": [
       "{0: [1, 2],\n",
       " 1: [0, 2, 3],\n",
       " 2: [0, 1, 3, 4],\n",
       " 3: [1, 2, 4, 5],\n",
       " 4: [2, 3, 5, 6],\n",
       " 5: [3, 4, 6, 7],\n",
       " 6: [4, 5, 7, 8],\n",
       " 7: [5, 6, 8, 9],\n",
       " 8: [6, 7, 9, 10],\n",
       " 9: [7, 8, 10],\n",
       " 10: [8, 9]}"
      ]
     },
     "execution_count": 10,
     "metadata": {},
     "output_type": "execute_result"
    }
   ],
   "source": [
    "hc.nextMoveDict\n",
    "\n",
    "#下一步可行的node的位置編號array\n",
    "#The position number array of the next feasible node\n",
    "#次に実行可能なノードの位置番号配列"
   ]
  },
  {
   "cell_type": "code",
   "execution_count": 11,
   "id": "fbc7433f",
   "metadata": {},
   "outputs": [
    {
     "data": {
      "text/plain": [
       "array([[ 1,  2, -1, -1],\n",
       "       [ 0,  2,  3, -1],\n",
       "       [ 0,  1,  3,  4],\n",
       "       [ 1,  2,  4,  5],\n",
       "       [ 2,  3,  5,  6],\n",
       "       [ 3,  4,  6,  7],\n",
       "       [ 4,  5,  7,  8],\n",
       "       [ 5,  6,  8,  9],\n",
       "       [ 6,  7,  9, 10],\n",
       "       [ 7,  8, 10, -1],\n",
       "       [ 8,  9, -1, -1]])"
      ]
     },
     "execution_count": 11,
     "metadata": {},
     "output_type": "execute_result"
    }
   ],
   "source": [
    "canmovevector = np.array( hc.nextMoveMatrix() )\n",
    "canmovevector\n",
    "\n",
    "#矩陣化\n",
    "#Matrixize\n",
    "#マトリックス化"
   ]
  },
  {
   "cell_type": "code",
   "execution_count": 12,
   "id": "ef70d34c",
   "metadata": {},
   "outputs": [],
   "source": [
    "actionfocus = [9,0] \n",
    "\n",
    "#chess[?] -> canmove[?]"
   ]
  },
  {
   "cell_type": "code",
   "execution_count": 13,
   "id": "a3d21b78",
   "metadata": {},
   "outputs": [
    {
     "data": {
      "text/plain": [
       "array([1., 0., 0., 0.])"
      ]
     },
     "execution_count": 13,
     "metadata": {},
     "output_type": "execute_result"
    }
   ],
   "source": [
    "actionvector = np.eye(4)[actionfocus[1]]\n",
    "\n",
    "actionvector"
   ]
  },
  {
   "cell_type": "code",
   "execution_count": 14,
   "id": "2f247082",
   "metadata": {},
   "outputs": [
    {
     "data": {
      "text/plain": [
       "7"
      ]
     },
     "execution_count": 14,
     "metadata": {},
     "output_type": "execute_result"
    }
   ],
   "source": [
    "actionelement = int(np.matmul(canmovevector,actionvector)[ actionfocus[0] ] )\n",
    "actionelement\n",
    "\n",
    "#根據動作向量，需要移動到的棋子索引\n",
    "#according to the action vector, the chess index which needed to move to\n",
    "#アクション ベクトルに従って、移動する必要があるチェスのインデックス"
   ]
  },
  {
   "cell_type": "code",
   "execution_count": 15,
   "id": "7e06dca4",
   "metadata": {},
   "outputs": [
    {
     "data": {
      "text/plain": [
       "['cow', '', '', '', '', '', '', 'farmer', '', '', 'farmer']"
      ]
     },
     "execution_count": 15,
     "metadata": {},
     "output_type": "execute_result"
    }
   ],
   "source": [
    "hc.current_chessboard = hc.numToCF( hc.swapPositions(chessboardvector, actionfocus[0], actionelement) )\n",
    "hc.current_chessboard\n",
    "\n",
    "#Move 移動"
   ]
  },
  {
   "cell_type": "code",
   "execution_count": 16,
   "id": "740f7358",
   "metadata": {},
   "outputs": [
    {
     "name": "stdout",
     "output_type": "stream",
     "text": [
      "\u001b[1mc\u001b[0m\n",
      "|  \\\n",
      "1 -- 2\n",
      "|  / \\\n",
      "3 -- 4\n",
      "|  / \\\n",
      "5 -- 6\n",
      "|  / \\\n",
      "\u001b[1mf\u001b[0m -- 8\n",
      "|  / \\\n",
      "9 -- \u001b[1mf\u001b[0m\n",
      "==============================\n"
     ]
    }
   ],
   "source": [
    "hc.struct2img(hc.current_chessboard)"
   ]
  },
  {
   "cell_type": "code",
   "execution_count": null,
   "id": "7e8f9bd8",
   "metadata": {},
   "outputs": [],
   "source": []
  }
 ],
 "metadata": {
  "kernelspec": {
   "display_name": "Python 3 (ipykernel)",
   "language": "python",
   "name": "python3"
  },
  "language_info": {
   "codemirror_mode": {
    "name": "ipython",
    "version": 3
   },
   "file_extension": ".py",
   "mimetype": "text/x-python",
   "name": "python",
   "nbconvert_exporter": "python",
   "pygments_lexer": "ipython3",
   "version": "3.11.5"
  }
 },
 "nbformat": 4,
 "nbformat_minor": 5
}
